{
 "cells": [
  {
   "cell_type": "markdown",
   "id": "7af11017",
   "metadata": {},
   "source": [
    "# Customer Churn Prediction using Random Forest\n",
    "\n",
    "This notebook trains a Random Forest classifier to predict customer churn, evaluates the model, and analyzes feature importance."
   ]
  },
  {
   "cell_type": "code",
   "execution_count": null,
   "id": "a0f59787",
   "metadata": {},
   "outputs": [],
   "source": [
    "\n",
    "# Step 1: Import Libraries\n",
    "import pandas as pd\n",
    "import numpy as np\n",
    "import matplotlib.pyplot as plt\n",
    "import seaborn as sns\n",
    "\n",
    "# Machine Learning libraries\n",
    "from sklearn.model_selection import train_test_split\n",
    "from sklearn.ensemble import RandomForestClassifier\n",
    "from sklearn.metrics import accuracy_score, precision_score, recall_score, f1_score, confusion_matrix, classification_report\n",
    "\n",
    "# Step 2: Load Dataset\n",
    "data = pd.read_csv('data_for_predictions.csv')\n",
    "data.head()\n"
   ]
  },
  {
   "cell_type": "code",
   "execution_count": null,
   "id": "8ff5fe97",
   "metadata": {},
   "outputs": [],
   "source": [
    "\n",
    "# Step 3: Inspect Dataset\n",
    "print(data.info())\n",
    "print(data.describe())\n"
   ]
  },
  {
   "cell_type": "code",
   "execution_count": null,
   "id": "cc698e1b",
   "metadata": {},
   "outputs": [],
   "source": [
    "\n",
    "# Step 4: Preprocessing\n",
    "if data['Churn'].dtype == 'object':\n",
    "    data['Churn'] = data['Churn'].map({'No':0, 'Yes':1})\n",
    "\n",
    "# Drop unnecessary columns like Customer_ID\n",
    "if 'Customer_ID' in data.columns:\n",
    "    data = data.drop('Customer_ID', axis=1)\n",
    "\n",
    "# Check for missing values\n",
    "print(data.isnull().sum())\n"
   ]
  },
  {
   "cell_type": "code",
   "execution_count": null,
   "id": "caa5c32a",
   "metadata": {},
   "outputs": [],
   "source": [
    "\n",
    "# Step 5: Split Features and Target\n",
    "X = data.drop('Churn', axis=1)\n",
    "y = data['Churn']\n",
    "\n",
    "# Step 6: Split into Training and Testing sets\n",
    "X_train, X_test, y_train, y_test = train_test_split(X, y, test_size=0.2, random_state=42, stratify=y)\n"
   ]
  },
  {
   "cell_type": "code",
   "execution_count": null,
   "id": "ffecd4f8",
   "metadata": {},
   "outputs": [],
   "source": [
    "\n",
    "# Step 7: Train Random Forest Classifier\n",
    "rf_model = RandomForestClassifier(n_estimators=100, random_state=42)\n",
    "rf_model.fit(X_train, y_train)\n"
   ]
  },
  {
   "cell_type": "code",
   "execution_count": null,
   "id": "bcd8e35b",
   "metadata": {},
   "outputs": [],
   "source": [
    "\n",
    "# Step 8: Make Predictions\n",
    "y_pred = rf_model.predict(X_test)\n",
    "\n",
    "# Confusion Matrix\n",
    "cm = confusion_matrix(y_test, y_pred)\n",
    "sns.heatmap(cm, annot=True, fmt='d', cmap='Blues')\n",
    "plt.xlabel('Predicted')\n",
    "plt.ylabel('Actual')\n",
    "plt.title('Confusion Matrix')\n",
    "plt.show()\n",
    "\n",
    "# Classification Report\n",
    "print(classification_report(y_test, y_pred))\n",
    "\n",
    "# Accuracy\n",
    "accuracy = accuracy_score(y_test, y_pred)\n",
    "print(f'Accuracy: {accuracy:.2f}')\n"
   ]
  },
  {
   "cell_type": "code",
   "execution_count": null,
   "id": "89602b2d",
   "metadata": {},
   "outputs": [],
   "source": [
    "\n",
    "# Step 9: Feature Importance\n",
    "importances = rf_model.feature_importances_\n",
    "feature_names = X.columns\n",
    "feat_importances = pd.Series(importances, index=feature_names).sort_values(ascending=False)\n",
    "\n",
    "# Plot Feature Importance\n",
    "plt.figure(figsize=(10,6))\n",
    "sns.barplot(x=feat_importances, y=feat_importances.index)\n",
    "plt.title(\"Feature Importance from Random Forest\")\n",
    "plt.show()\n"
   ]
  },
  {
   "cell_type": "markdown",
   "id": "68c63dc5",
   "metadata": {},
   "source": [
    "\n",
    "## Discussion\n",
    "\n",
    "- **Evaluation Metrics:** Accuracy, Precision, Recall, and F1-score were chosen to balance overall correctness and the cost of false positives/negatives.  \n",
    "- **Model Performance:** Review the confusion matrix and metrics to decide if the model performance is satisfactory.  \n",
    "- **Feature Importance:** Highlights which features contribute most to predicting churn, informing potential business interventions.\n"
   ]
  }
 ],
 "metadata": {},
 "nbformat": 4,
 "nbformat_minor": 5
}
